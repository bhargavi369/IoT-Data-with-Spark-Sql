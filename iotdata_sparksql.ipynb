{
  "nbformat": 4,
  "nbformat_minor": 0,
  "metadata": {
    "colab": {
      "provenance": [],
      "authorship_tag": "ABX9TyMykovPatJpIYXT6ENIkRSd",
      "include_colab_link": true
    },
    "kernelspec": {
      "name": "python3",
      "display_name": "Python 3"
    },
    "language_info": {
      "name": "python"
    }
  },
  "cells": [
    {
      "cell_type": "markdown",
      "metadata": {
        "id": "view-in-github",
        "colab_type": "text"
      },
      "source": [
        "<a href=\"https://colab.research.google.com/github/bhargavi369/IoT-Data-with-Spark-Sql/blob/main/iotdata_sparksql.ipynb\" target=\"_parent\"><img src=\"https://colab.research.google.com/assets/colab-badge.svg\" alt=\"Open In Colab\"/></a>"
      ]
    },
    {
      "cell_type": "code",
      "source": [
        "# Mounting Google Drive\n",
        "from google.colab import drive\n",
        "drive.mount('/content/drive')"
      ],
      "metadata": {
        "colab": {
          "base_uri": "https://localhost:8080/"
        },
        "id": "MkM6-mYNgi_K",
        "outputId": "be25f967-2e18-4925-fe67-2b12f812ba27"
      },
      "execution_count": null,
      "outputs": [
        {
          "output_type": "stream",
          "name": "stdout",
          "text": [
            "Mounted at /content/drive\n"
          ]
        }
      ]
    },
    {
      "cell_type": "code",
      "source": [
        "# Installing findspark\n",
        "%pip install findspark"
      ],
      "metadata": {
        "colab": {
          "base_uri": "https://localhost:8080/"
        },
        "id": "mnFZ6OpZg83z",
        "outputId": "780c00db-241c-4729-a19b-bcd9c2bb38da"
      },
      "execution_count": null,
      "outputs": [
        {
          "output_type": "stream",
          "name": "stdout",
          "text": [
            "Looking in indexes: https://pypi.org/simple, https://us-python.pkg.dev/colab-wheels/public/simple/\n",
            "Collecting findspark\n",
            "  Downloading findspark-2.0.1-py2.py3-none-any.whl (4.4 kB)\n",
            "Installing collected packages: findspark\n",
            "Successfully installed findspark-2.0.1\n"
          ]
        }
      ]
    },
    {
      "cell_type": "code",
      "source": [
        "# Installing pyspark\n",
        "%pip install pyspark\n",
        "     \n"
      ],
      "metadata": {
        "colab": {
          "base_uri": "https://localhost:8080/"
        },
        "id": "jD4hQd5MhCix",
        "outputId": "59e890fa-dd75-451d-f9b6-15a03c425d06"
      },
      "execution_count": null,
      "outputs": [
        {
          "output_type": "stream",
          "name": "stdout",
          "text": [
            "Looking in indexes: https://pypi.org/simple, https://us-python.pkg.dev/colab-wheels/public/simple/\n",
            "Collecting pyspark\n",
            "  Downloading pyspark-3.3.1.tar.gz (281.4 MB)\n",
            "\u001b[2K     \u001b[90m━━━━━━━━━━━━━━━━━━━━━━━━━━━━━━━━━━━━━━━\u001b[0m \u001b[32m281.4/281.4 MB\u001b[0m \u001b[31m4.7 MB/s\u001b[0m eta \u001b[36m0:00:00\u001b[0m\n",
            "\u001b[?25h  Preparing metadata (setup.py) ... \u001b[?25l\u001b[?25hdone\n",
            "Collecting py4j==0.10.9.5\n",
            "  Downloading py4j-0.10.9.5-py2.py3-none-any.whl (199 kB)\n",
            "\u001b[2K     \u001b[90m━━━━━━━━━━━━━━━━━━━━━━━━━━━━━━━━━━━━━━\u001b[0m \u001b[32m199.7/199.7 KB\u001b[0m \u001b[31m19.8 MB/s\u001b[0m eta \u001b[36m0:00:00\u001b[0m\n",
            "\u001b[?25hBuilding wheels for collected packages: pyspark\n",
            "  Building wheel for pyspark (setup.py) ... \u001b[?25l\u001b[?25hdone\n",
            "  Created wheel for pyspark: filename=pyspark-3.3.1-py2.py3-none-any.whl size=281845512 sha256=1c8da7181e30029805cfe128e2d0d7153414655fd4239eb1e3c6b21d5a0ca917\n",
            "  Stored in directory: /root/.cache/pip/wheels/43/dc/11/ec201cd671da62fa9c5cc77078235e40722170ceba231d7598\n",
            "Successfully built pyspark\n",
            "Installing collected packages: py4j, pyspark\n",
            "Successfully installed py4j-0.10.9.5 pyspark-3.3.1\n"
          ]
        }
      ]
    },
    {
      "cell_type": "code",
      "source": [
        "# Installing java\n",
        "!apt-get install openjdk-8-jdk-headless -qq > /dev/null\n",
        "     "
      ],
      "metadata": {
        "id": "OVkGrcIPhGqS"
      },
      "execution_count": null,
      "outputs": []
    },
    {
      "cell_type": "code",
      "source": [
        "import findspark\n",
        "findspark.init()"
      ],
      "metadata": {
        "id": "YKJgmTnyhNT5"
      },
      "execution_count": null,
      "outputs": []
    },
    {
      "cell_type": "code",
      "source": [
        "import pyspark.sql.functions as pyf"
      ],
      "metadata": {
        "id": "6qHT-BZ6hTvC"
      },
      "execution_count": null,
      "outputs": []
    },
    {
      "cell_type": "code",
      "source": [
        "# Creating a spark session\n",
        "from pyspark.sql import DataFrame, SparkSession\n",
        "spark = SparkSession.builder.appName(\"Analysing IoT Data\").getOrCreate()\n",
        "spark\n",
        "     "
      ],
      "metadata": {
        "colab": {
          "base_uri": "https://localhost:8080/",
          "height": 219
        },
        "id": "xlvdwk5yhmJb",
        "outputId": "87a2632c-a900-4877-c69c-b1c4ded1cfd5"
      },
      "execution_count": null,
      "outputs": [
        {
          "output_type": "execute_result",
          "data": {
            "text/plain": [
              "<pyspark.sql.session.SparkSession at 0x7efdd8052850>"
            ],
            "text/html": [
              "\n",
              "            <div>\n",
              "                <p><b>SparkSession - in-memory</b></p>\n",
              "                \n",
              "        <div>\n",
              "            <p><b>SparkContext</b></p>\n",
              "\n",
              "            <p><a href=\"http://b52e7ff81449:4040\">Spark UI</a></p>\n",
              "\n",
              "            <dl>\n",
              "              <dt>Version</dt>\n",
              "                <dd><code>v3.3.1</code></dd>\n",
              "              <dt>Master</dt>\n",
              "                <dd><code>local[*]</code></dd>\n",
              "              <dt>AppName</dt>\n",
              "                <dd><code>Analysing IoT Data</code></dd>\n",
              "            </dl>\n",
              "        </div>\n",
              "        \n",
              "            </div>\n",
              "        "
            ]
          },
          "metadata": {},
          "execution_count": 7
        }
      ]
    },
    {
      "cell_type": "code",
      "source": [
        "# Specifying the file path\n",
        "file_location = \"/content/drive/MyDrive/Colab Notebooks/iot_devices.json\"\n",
        "     "
      ],
      "metadata": {
        "id": "vpnijlsCh0B1"
      },
      "execution_count": null,
      "outputs": []
    },
    {
      "cell_type": "code",
      "source": [
        "# Reading the dataset to a dataframe\n",
        "df = spark.read.json(file_location)"
      ],
      "metadata": {
        "id": "ufGeWPEZh68v"
      },
      "execution_count": null,
      "outputs": []
    },
    {
      "cell_type": "code",
      "source": [
        "# Displaying the number of rows and columns\n",
        "print((df.distinct().count(), len(df.columns)))\n",
        "     "
      ],
      "metadata": {
        "colab": {
          "base_uri": "https://localhost:8080/"
        },
        "id": "TTr-a8raiTpk",
        "outputId": "f6febca1-d9dd-4dc0-a380-c88cae5878af"
      },
      "execution_count": null,
      "outputs": [
        {
          "output_type": "stream",
          "name": "stdout",
          "text": [
            "(198164, 15)\n"
          ]
        }
      ]
    },
    {
      "cell_type": "code",
      "source": [
        "df.show()"
      ],
      "metadata": {
        "colab": {
          "base_uri": "https://localhost:8080/"
        },
        "id": "qooxTVBgiqOC",
        "outputId": "9ced3ef3-6dc1-4e4e-e6ef-db0b19d56042"
      },
      "execution_count": null,
      "outputs": [
        {
          "output_type": "stream",
          "name": "stdout",
          "text": [
            "+-------------+---------+----+----+-------------+---------+--------------------+--------+---------------+--------+------+---------+-------+----+-------------+\n",
            "|battery_level|c02_level|cca2|cca3|           cn|device_id|         device_name|humidity|             ip|latitude|   lcd|longitude|  scale|temp|    timestamp|\n",
            "+-------------+---------+----+----+-------------+---------+--------------------+--------+---------------+--------+------+---------+-------+----+-------------+\n",
            "|            8|      868|  US| USA|United States|        1|meter-gauge-1xbYRYcj|      51|   68.161.225.1|    38.0| green|    -97.0|Celsius|  34|1458444054093|\n",
            "|            7|     1473|  NO| NOR|       Norway|        2|   sensor-pad-2n2Pea|      70|  213.161.254.1|   62.47|   red|     6.15|Celsius|  11|1458444054119|\n",
            "|            2|     1556|  IT| ITA|        Italy|        3| device-mac-36TWSKiT|      44|      88.36.5.1|   42.83|   red|    12.83|Celsius|  19|1458444054120|\n",
            "|            6|     1080|  US| USA|United States|        4|   sensor-pad-4mzWkz|      32|  66.39.173.154|   44.06|yellow|  -121.32|Celsius|  28|1458444054121|\n",
            "|            4|      931|  PH| PHL|  Philippines|        5|therm-stick-5gimp...|      62|    203.82.41.9|   14.58| green|   120.97|Celsius|  25|1458444054122|\n",
            "|            3|     1210|  US| USA|United States|        6|sensor-pad-6al7RT...|      51| 204.116.105.67|   35.93|yellow|   -85.46|Celsius|  27|1458444054122|\n",
            "|            3|     1129|  CN| CHN|        China|        7|meter-gauge-7GeDoanM|      26|  220.173.179.1|   22.82|yellow|   108.32|Celsius|  18|1458444054123|\n",
            "|            0|     1536|  JP| JPN|        Japan|        8|sensor-pad-8xUD6p...|      35|  210.173.177.1|   35.69|   red|   139.69|Celsius|  27|1458444054123|\n",
            "|            3|      807|  JP| JPN|        Japan|        9| device-mac-9GcjZ2pw|      85|  118.23.68.227|   35.69| green|   139.69|Celsius|  13|1458444054124|\n",
            "|            7|     1470|  US| USA|United States|       10|sensor-pad-10Bsyw...|      56|208.109.163.218|   33.61|   red|  -111.89|Celsius|  26|1458444054125|\n",
            "|            3|     1544|  IT| ITA|        Italy|       11|meter-gauge-11dlM...|      85|  88.213.191.34|   42.83|   red|    12.83|Celsius|  16|1458444054125|\n",
            "|            0|     1260|  US| USA|United States|       12|sensor-pad-12Y2kIm0o|      92|    68.28.91.22|    38.0|yellow|    -97.0|Celsius|  12|1458444054126|\n",
            "|            6|     1007|  IN| IND|        India|       13|meter-gauge-13Gro...|      92| 59.144.114.250|    28.6|yellow|     77.2|Celsius|  13|1458444054127|\n",
            "|            1|     1346|  NO| NOR|       Norway|       14|sensor-pad-14QL93...|      90| 193.156.90.200|   59.95|yellow|    10.75|Celsius|  16|1458444054127|\n",
            "|            9|     1259|  US| USA|United States|       15|  device-mac-15se6mZ|      70|    67.185.72.1|   47.41|yellow|   -122.0|Celsius|  13|1458444054128|\n",
            "|            4|     1425|  US| USA|United States|       16|sensor-pad-16aXmI...|      53|   68.85.85.106|    38.0|   red|    -97.0|Celsius|  15|1458444054128|\n",
            "|            0|     1466|  US| USA|United States|       17|meter-gauge-17zb8...|      98|161.188.212.254|   39.95|   red|   -75.16|Celsius|  31|1458444054129|\n",
            "|            4|     1096|  CN| CHN|        China|       18|sensor-pad-18XULN9Xv|      25|  221.3.128.242|   25.04|yellow|   102.72|Celsius|  31|1458444054130|\n",
            "|            9|     1531|  US| USA|United States|       19|meter-gauge-19eg1...|      75| 64.124.180.215|    38.0|   red|    -97.0|Celsius|  29|1458444054130|\n",
            "|            7|     1155|  US| USA|United States|       20|sensor-pad-20gFNf...|      33|  66.153.162.66|   33.94|yellow|   -78.92|Celsius|  10|1458444054131|\n",
            "+-------------+---------+----+----+-------------+---------+--------------------+--------+---------------+--------+------+---------+-------+----+-------------+\n",
            "only showing top 20 rows\n",
            "\n"
          ]
        }
      ]
    },
    {
      "cell_type": "code",
      "source": [
        "df.printSchema()"
      ],
      "metadata": {
        "colab": {
          "base_uri": "https://localhost:8080/"
        },
        "id": "faDpfQp1iwEJ",
        "outputId": "4ee43300-f2df-45bd-920b-70a18ab96d28"
      },
      "execution_count": null,
      "outputs": [
        {
          "output_type": "stream",
          "name": "stdout",
          "text": [
            "root\n",
            " |-- battery_level: long (nullable = true)\n",
            " |-- c02_level: long (nullable = true)\n",
            " |-- cca2: string (nullable = true)\n",
            " |-- cca3: string (nullable = true)\n",
            " |-- cn: string (nullable = true)\n",
            " |-- device_id: long (nullable = true)\n",
            " |-- device_name: string (nullable = true)\n",
            " |-- humidity: long (nullable = true)\n",
            " |-- ip: string (nullable = true)\n",
            " |-- latitude: double (nullable = true)\n",
            " |-- lcd: string (nullable = true)\n",
            " |-- longitude: double (nullable = true)\n",
            " |-- scale: string (nullable = true)\n",
            " |-- temp: long (nullable = true)\n",
            " |-- timestamp: long (nullable = true)\n",
            "\n"
          ]
        }
      ]
    },
    {
      "cell_type": "code",
      "source": [
        "# Creating a temporary view called iot\n",
        "df.createOrReplaceTempView(\"iot\")"
      ],
      "metadata": {
        "id": "ogIN5QXai4u9"
      },
      "execution_count": null,
      "outputs": []
    },
    {
      "cell_type": "code",
      "source": [
        "print(df)"
      ],
      "metadata": {
        "colab": {
          "base_uri": "https://localhost:8080/"
        },
        "id": "aXBP8tl6jEZ6",
        "outputId": "a4494c24-7486-46ba-bc9c-6191775536e3"
      },
      "execution_count": null,
      "outputs": [
        {
          "output_type": "stream",
          "name": "stdout",
          "text": [
            "DataFrame[battery_level: bigint, c02_level: bigint, cca2: string, cca3: string, cn: string, device_id: bigint, device_name: string, humidity: bigint, ip: string, latitude: double, lcd: string, longitude: double, scale: string, temp: bigint, timestamp: bigint]\n"
          ]
        }
      ]
    },
    {
      "cell_type": "code",
      "source": [
        "# Count how many devices are there from each country and display the output.\n",
        "spark.sql(\"SELECT cn, COUNT(DISTINCT device_id) as Number_of_devices FROM iot GROUP BY cn ORDER BY Number_of_devices DESC\").show()"
      ],
      "metadata": {
        "colab": {
          "base_uri": "https://localhost:8080/"
        },
        "id": "U1_zmUxdwngv",
        "outputId": "60ae3368-d2f1-468f-d924-55cb876bb001"
      },
      "execution_count": null,
      "outputs": [
        {
          "output_type": "stream",
          "name": "stdout",
          "text": [
            "+-----------------+-----------------+\n",
            "|               cn|Number_of_devices|\n",
            "+-----------------+-----------------+\n",
            "|    United States|            68545|\n",
            "|            China|            14455|\n",
            "|            Japan|            12100|\n",
            "|Republic of Korea|            11879|\n",
            "|          Germany|             7942|\n",
            "|   United Kingdom|             6486|\n",
            "|           Canada|             6041|\n",
            "|           Russia|             5989|\n",
            "|           France|             5305|\n",
            "|           Brazil|             3224|\n",
            "|        Australia|             3119|\n",
            "|            Italy|             2915|\n",
            "|           Sweden|             2880|\n",
            "|           Poland|             2744|\n",
            "|      Netherlands|             2488|\n",
            "|            Spain|             2310|\n",
            "|           Taiwan|             2128|\n",
            "|            India|             1867|\n",
            "|                 |             1810|\n",
            "|   Czech Republic|             1507|\n",
            "+-----------------+-----------------+\n",
            "only showing top 20 rows\n",
            "\n"
          ]
        }
      ]
    },
    {
      "cell_type": "code",
      "source": [
        "# All the countries whose carbon dioxide level is more than 1400. Sort the output in descending order.\n",
        "spark.sql(\"SELECT cn FROM iot WHERE c02_level > 1400 ORDER BY c02_level DESC\").show()\n",
        "     "
      ],
      "metadata": {
        "colab": {
          "base_uri": "https://localhost:8080/"
        },
        "id": "3IJnCtLmw1HJ",
        "outputId": "fdd32d7f-9506-453a-800e-624e6ddd4723"
      },
      "execution_count": null,
      "outputs": [
        {
          "output_type": "stream",
          "name": "stdout",
          "text": [
            "+-----------------+\n",
            "|               cn|\n",
            "+-----------------+\n",
            "|         Bulgaria|\n",
            "|    United States|\n",
            "|            Egypt|\n",
            "|           Taiwan|\n",
            "|          Germany|\n",
            "|          Germany|\n",
            "|           Canada|\n",
            "|            Japan|\n",
            "|          Germany|\n",
            "|         Bulgaria|\n",
            "|        Argentina|\n",
            "|   United Kingdom|\n",
            "|    United States|\n",
            "|    United States|\n",
            "|    United States|\n",
            "|            China|\n",
            "|Republic of Korea|\n",
            "|    United States|\n",
            "|           Norway|\n",
            "|           Poland|\n",
            "+-----------------+\n",
            "only showing top 20 rows\n",
            "\n"
          ]
        }
      ]
    },
    {
      "cell_type": "code",
      "source": [
        "# Select all countries' devices with high-levels of C02 and group by cca3 and order by device_ids\n",
        "spark.sql(\"SELECT device_name,device_id,cca3 FROM iot WHERE lcd = 'red' GROUP BY device_name,device_id,cca3 ORDER BY device_id\").show()\n",
        "     "
      ],
      "metadata": {
        "colab": {
          "base_uri": "https://localhost:8080/"
        },
        "id": "uXKfPnRIw6sW",
        "outputId": "22a5b5a8-ad92-4bf6-ef23-9670b2959b7f"
      },
      "execution_count": null,
      "outputs": [
        {
          "output_type": "stream",
          "name": "stdout",
          "text": [
            "+--------------------+---------+----+\n",
            "|         device_name|device_id|cca3|\n",
            "+--------------------+---------+----+\n",
            "|   sensor-pad-2n2Pea|        2| NOR|\n",
            "| device-mac-36TWSKiT|        3| ITA|\n",
            "|sensor-pad-8xUD6p...|        8| JPN|\n",
            "|sensor-pad-10Bsyw...|       10| USA|\n",
            "|meter-gauge-11dlM...|       11| ITA|\n",
            "|sensor-pad-16aXmI...|       16| USA|\n",
            "|meter-gauge-17zb8...|       17| USA|\n",
            "|meter-gauge-19eg1...|       19| USA|\n",
            "|  sensor-pad-22oWV2D|       22| JPN|\n",
            "|sensor-pad-24Pytz...|       24| CAN|\n",
            "|  device-mac-27P5wf2|       27| KOR|\n",
            "|sensor-pad-28Tsud...|       28| KOR|\n",
            "|meter-gauge-47WsF9s8|       47| UKR|\n",
            "|meter-gauge-534fD...|       53| SWE|\n",
            "|sensor-pad-5410CW...|       54| USA|\n",
            "|device-mac-57tRB0...|       57| USA|\n",
            "|  sensor-pad-64djcIn|       64| USA|\n",
            "|sensor-pad-663dzo...|       66| CZE|\n",
            "|meter-gauge-77IKW...|       77| IND|\n",
            "|sensor-pad-78PkeI...|       78| KOR|\n",
            "+--------------------+---------+----+\n",
            "only showing top 20 rows\n",
            "\n"
          ]
        }
      ]
    },
    {
      "cell_type": "code",
      "source": [
        "# All devices in countries whose batteries need replacements.\n",
        "spark.sql(\"SELECT device_name as Device_Battery_Dead, device_id FROM iot WHERE battery_level = 0 GROUP BY Device_Battery_Dead, device_id\").show()"
      ],
      "metadata": {
        "colab": {
          "base_uri": "https://localhost:8080/"
        },
        "id": "6u-6SzF5xJ2H",
        "outputId": "2b784b9d-d3e0-48cb-ff3b-03c728722117"
      },
      "execution_count": null,
      "outputs": [
        {
          "output_type": "stream",
          "name": "stdout",
          "text": [
            "+--------------------+---------+\n",
            "| Device_Battery_Dead|device_id|\n",
            "+--------------------+---------+\n",
            "|meter-gauge-1075K...|      107|\n",
            "|sensor-pad-354ztT...|      354|\n",
            "|device-mac-2757kb...|     2757|\n",
            "|meter-gauge-41092...|     4109|\n",
            "|therm-stick-5485e...|     5485|\n",
            "|sensor-pad-9038r8...|     9038|\n",
            "|sensor-pad-11448P...|    11448|\n",
            "|sensor-pad-12444M...|    12444|\n",
            "|sensor-pad-16942T...|    16942|\n",
            "|sensor-pad-180044...|    18004|\n",
            "|device-mac-18129q...|    18129|\n",
            "|sensor-pad-18532R...|    18532|\n",
            "|device-mac-217770...|    21777|\n",
            "|meter-gauge-26633...|    26633|\n",
            "|therm-stick-27155...|    27155|\n",
            "|device-mac-298713...|    29871|\n",
            "|meter-gauge-31123...|    31123|\n",
            "|meter-gauge-33119...|    33119|\n",
            "|device-mac-37143D...|    37143|\n",
            "|meter-gauge-40673...|    40673|\n",
            "+--------------------+---------+\n",
            "only showing top 20 rows\n",
            "\n"
          ]
        }
      ]
    }
  ]
}